{
 "cells": [
  {
   "cell_type": "code",
   "execution_count": 1,
   "id": "fee35bc4",
   "metadata": {},
   "outputs": [],
   "source": [
    "january=march=may=june=31"
   ]
  },
  {
   "cell_type": "code",
   "execution_count": 2,
   "id": "ee1d8b4c",
   "metadata": {},
   "outputs": [
    {
     "name": "stdout",
     "output_type": "stream",
     "text": [
      "31\n"
     ]
    }
   ],
   "source": [
    "print(january)"
   ]
  },
  {
   "cell_type": "code",
   "execution_count": 3,
   "id": "4ec6a7b9",
   "metadata": {},
   "outputs": [
    {
     "name": "stdout",
     "output_type": "stream",
     "text": [
      "31\n"
     ]
    }
   ],
   "source": [
    "print(june)"
   ]
  },
  {
   "cell_type": "code",
   "execution_count": 4,
   "id": "676502b0",
   "metadata": {},
   "outputs": [
    {
     "name": "stdout",
     "output_type": "stream",
     "text": [
      "31\n",
      "31\n",
      "31\n"
     ]
    }
   ],
   "source": [
    "print(january)\n",
    "print(march)\n",
    "print (june)"
   ]
  },
  {
   "cell_type": "code",
   "execution_count": 6,
   "id": "ff5b3f3f",
   "metadata": {},
   "outputs": [
    {
     "name": "stdout",
     "output_type": "stream",
     "text": [
      "61\n"
     ]
    }
   ],
   "source": [
    "april = 30\n",
    "june = 30\n",
    "september = 30\n",
    "november = 30\n",
    "january = march = may = july = august = october = december=31\n",
    "print(september + october)"
   ]
  },
  {
   "cell_type": "code",
   "execution_count": 7,
   "id": "ca3e7869",
   "metadata": {},
   "outputs": [
    {
     "name": "stdout",
     "output_type": "stream",
     "text": [
      "data\n",
      "science\n"
     ]
    }
   ],
   "source": [
    "python , java = \"data\",\"science\"\n",
    "print(python)\n",
    "print(java)"
   ]
  },
  {
   "cell_type": "code",
   "execution_count": 8,
   "id": "8b892f67",
   "metadata": {},
   "outputs": [],
   "source": [
    "example=5.8"
   ]
  },
  {
   "cell_type": "code",
   "execution_count": 9,
   "id": "a26fc6be",
   "metadata": {},
   "outputs": [
    {
     "name": "stdout",
     "output_type": "stream",
     "text": [
      "5\n"
     ]
    }
   ],
   "source": [
    "converted_example= int(example)\n",
    "print(converted_example)"
   ]
  },
  {
   "cell_type": "code",
   "execution_count": 10,
   "id": "78eeecc6",
   "metadata": {},
   "outputs": [],
   "source": [
    "number=5"
   ]
  },
  {
   "cell_type": "code",
   "execution_count": 14,
   "id": "203b60b9",
   "metadata": {},
   "outputs": [
    {
     "name": "stdout",
     "output_type": "stream",
     "text": [
      "10.3\n"
     ]
    }
   ],
   "source": [
    "converted_number=float(number)\n",
    "print(converted_number)"
   ]
  },
  {
   "cell_type": "code",
   "execution_count": 15,
   "id": "bea048b7",
   "metadata": {},
   "outputs": [],
   "source": [
    "example2=12"
   ]
  },
  {
   "cell_type": "code",
   "execution_count": 16,
   "id": "d7b22a12",
   "metadata": {},
   "outputs": [
    {
     "data": {
      "text/plain": [
       "12.0"
      ]
     },
     "execution_count": 16,
     "metadata": {},
     "output_type": "execute_result"
    }
   ],
   "source": [
    "float(example2)"
   ]
  },
  {
   "cell_type": "code",
   "execution_count": 18,
   "id": "e521ba50",
   "metadata": {},
   "outputs": [
    {
     "ename": "ValueError",
     "evalue": "invalid literal for int() with base 10: '9A'",
     "output_type": "error",
     "traceback": [
      "\u001b[1;31m---------------------------------------------------------------------------\u001b[0m",
      "\u001b[1;31mValueError\u001b[0m                                Traceback (most recent call last)",
      "\u001b[1;32m~\\AppData\\Local\\Temp\\ipykernel_7808\\885575991.py\u001b[0m in \u001b[0;36m<module>\u001b[1;34m\u001b[0m\n\u001b[0;32m      1\u001b[0m \u001b[0mexample3\u001b[0m\u001b[1;33m=\u001b[0m\u001b[1;34m\"9A\"\u001b[0m\u001b[1;33m\u001b[0m\u001b[1;33m\u001b[0m\u001b[0m\n\u001b[1;32m----> 2\u001b[1;33m \u001b[0mint\u001b[0m\u001b[1;33m(\u001b[0m\u001b[0mexample3\u001b[0m\u001b[1;33m)\u001b[0m\u001b[1;33m\u001b[0m\u001b[1;33m\u001b[0m\u001b[0m\n\u001b[0m",
      "\u001b[1;31mValueError\u001b[0m: invalid literal for int() with base 10: '9A'"
     ]
    }
   ],
   "source": [
    "example3=\"9A\"    #its impossible #any kind of string never converted to intger or float varriable \n",
    "int(example3)"
   ]
  },
  {
   "cell_type": "code",
   "execution_count": 19,
   "id": "430838e0",
   "metadata": {},
   "outputs": [
    {
     "name": "stdout",
     "output_type": "stream",
     "text": [
      "1\n"
     ]
    }
   ],
   "source": [
    "print(29%7)     #vagsesh"
   ]
  },
  {
   "cell_type": "code",
   "execution_count": 20,
   "id": "037848ed",
   "metadata": {},
   "outputs": [
    {
     "name": "stdout",
     "output_type": "stream",
     "text": [
      "11\n"
     ]
    }
   ],
   "source": [
    "print(50%13)     #vagsesh"
   ]
  },
  {
   "cell_type": "code",
   "execution_count": 21,
   "id": "813dfc26",
   "metadata": {},
   "outputs": [
    {
     "name": "stdout",
     "output_type": "stream",
     "text": [
      "4.5\n"
     ]
    }
   ],
   "source": [
    "print(9/2)       # devided"
   ]
  },
  {
   "cell_type": "code",
   "execution_count": 22,
   "id": "e0022de6",
   "metadata": {},
   "outputs": [
    {
     "name": "stdout",
     "output_type": "stream",
     "text": [
      "4\n"
     ]
    }
   ],
   "source": [
    "print(9//2)      #reduce of fraction numbner"
   ]
  },
  {
   "cell_type": "code",
   "execution_count": 23,
   "id": "582806b8",
   "metadata": {},
   "outputs": [
    {
     "name": "stdout",
     "output_type": "stream",
     "text": [
      "2\n"
     ]
    }
   ],
   "source": [
    "print(11//5)"
   ]
  },
  {
   "cell_type": "code",
   "execution_count": 24,
   "id": "0396d13b",
   "metadata": {},
   "outputs": [
    {
     "name": "stdout",
     "output_type": "stream",
     "text": [
      "8\n"
     ]
    }
   ],
   "source": [
    "print(2**3)      # 2 to the power 3"
   ]
  },
  {
   "cell_type": "code",
   "execution_count": 25,
   "id": "7b08bb3e",
   "metadata": {},
   "outputs": [
    {
     "name": "stdout",
     "output_type": "stream",
     "text": [
      "10\n"
     ]
    }
   ],
   "source": [
    "x= 5\n",
    "x=x+5\n",
    "print(x)"
   ]
  },
  {
   "cell_type": "code",
   "execution_count": 26,
   "id": "094137aa",
   "metadata": {},
   "outputs": [
    {
     "name": "stdout",
     "output_type": "stream",
     "text": [
      "10\n"
     ]
    }
   ],
   "source": [
    "x=5            \n",
    "x +=5            #both of same\n",
    "print(x)"
   ]
  },
  {
   "cell_type": "code",
   "execution_count": 27,
   "id": "af8aedde",
   "metadata": {},
   "outputs": [
    {
     "name": "stdout",
     "output_type": "stream",
     "text": [
      "15\n"
     ]
    }
   ],
   "source": [
    "varriable=20\n",
    "varriable -=5\n",
    "print(varriable)"
   ]
  },
  {
   "cell_type": "code",
   "execution_count": 28,
   "id": "3e497773",
   "metadata": {},
   "outputs": [
    {
     "name": "stdout",
     "output_type": "stream",
     "text": [
      "256\n"
     ]
    }
   ],
   "source": [
    "varriable= 4\n",
    "varriable **=4\n",
    "print(varriable)"
   ]
  },
  {
   "cell_type": "code",
   "execution_count": 29,
   "id": "b3524231",
   "metadata": {},
   "outputs": [
    {
     "name": "stdout",
     "output_type": "stream",
     "text": [
      "my name is shabbir\n"
     ]
    }
   ],
   "source": [
    "name= \"my name is shabbir\"\n",
    "print(name)"
   ]
  },
  {
   "cell_type": "code",
   "execution_count": 37,
   "id": "526a268d",
   "metadata": {},
   "outputs": [
    {
     "name": "stdout",
     "output_type": "stream",
     "text": [
      "my name is shabbir \n",
      "and my father name is ohab mollek\n"
     ]
    }
   ],
   "source": [
    "value2= \"my name is shabbir \\nand my father name is ohab mollek\"   #\\n function creating new line\n",
    "print(value2)"
   ]
  },
  {
   "cell_type": "code",
   "execution_count": 38,
   "id": "2e730ccc",
   "metadata": {},
   "outputs": [
    {
     "name": "stdout",
     "output_type": "stream",
     "text": [
      "hello world \n",
      "i am learning data science\n"
     ]
    }
   ],
   "source": [
    "value22=\"hello world \\ni am learning data science\"\n",
    "print(value22)"
   ]
  },
  {
   "cell_type": "code",
   "execution_count": 39,
   "id": "e6a70a0f",
   "metadata": {},
   "outputs": [
    {
     "name": "stdout",
     "output_type": "stream",
     "text": [
      "i\n",
      "love\n",
      "python\n"
     ]
    }
   ],
   "source": [
    "print(\"i\\nlove\\npython\")"
   ]
  },
  {
   "cell_type": "code",
   "execution_count": 40,
   "id": "5ef9498d",
   "metadata": {},
   "outputs": [
    {
     "name": "stdout",
     "output_type": "stream",
     "text": [
      "i\n",
      "love\tyou\n"
     ]
    }
   ],
   "source": [
    "print(\"i\\nlove\\tyou\")       #\\t function  creating distance"
   ]
  },
  {
   "cell_type": "code",
   "execution_count": 41,
   "id": "a0f72698",
   "metadata": {},
   "outputs": [
    {
     "name": "stdout",
     "output_type": "stream",
     "text": [
      "i\n",
      "\n",
      "love\t\tyou\n"
     ]
    }
   ],
   "source": [
    "print(\"i\\n\\nlove\\t\\tyou\")"
   ]
  },
  {
   "cell_type": "code",
   "execution_count": 44,
   "id": "88770815",
   "metadata": {},
   "outputs": [
    {
     "name": "stdout",
     "output_type": "stream",
     "text": [
      "i\blove\tyou\n"
     ]
    }
   ],
   "source": [
    "print(\"i\\blove\\tyou\")  #confused "
   ]
  },
  {
   "cell_type": "code",
   "execution_count": 49,
   "id": "93e9f866",
   "metadata": {},
   "outputs": [
    {
     "name": "stdout",
     "output_type": "stream",
     "text": [
      "i'm sabbir\n"
     ]
    }
   ],
   "source": [
    "print('i\\'m sabbir')"
   ]
  },
  {
   "cell_type": "code",
   "execution_count": 50,
   "id": "cda2809e",
   "metadata": {},
   "outputs": [
    {
     "data": {
      "text/plain": [
       "'hellodata'"
      ]
     },
     "execution_count": 50,
     "metadata": {},
     "output_type": "execute_result"
    }
   ],
   "source": [
    "\"hello\" + \"data\""
   ]
  },
  {
   "cell_type": "code",
   "execution_count": 61,
   "id": "dd258f7e",
   "metadata": {},
   "outputs": [
    {
     "data": {
      "text/plain": [
       "'python is king'"
      ]
     },
     "execution_count": 61,
     "metadata": {},
     "output_type": "execute_result"
    }
   ],
   "source": [
    "\"python\" + \"\" +\" is king\""
   ]
  },
  {
   "cell_type": "code",
   "execution_count": 63,
   "id": "574ddaaa",
   "metadata": {},
   "outputs": [
    {
     "data": {
      "text/plain": [
       "'hellohellohellohello'"
      ]
     },
     "execution_count": 63,
     "metadata": {},
     "output_type": "execute_result"
    }
   ],
   "source": [
    " \"hello\"*4     #multiple"
   ]
  },
  {
   "cell_type": "code",
   "execution_count": 65,
   "id": "59950dde",
   "metadata": {},
   "outputs": [
    {
     "data": {
      "text/plain": [
       "'pythonpythonpythonpython'"
      ]
     },
     "execution_count": 65,
     "metadata": {},
     "output_type": "execute_result"
    }
   ],
   "source": [
    "2*\"python\"*2"
   ]
  },
  {
   "cell_type": "code",
   "execution_count": 1,
   "id": "13eca44a",
   "metadata": {},
   "outputs": [
    {
     "name": "stdout",
     "output_type": "stream",
     "text": [
      "14\n"
     ]
    }
   ],
   "source": [
    "job=\"data scientist\"\n",
    "print(len(job))"
   ]
  },
  {
   "cell_type": "code",
   "execution_count": 3,
   "id": "b1aefb26",
   "metadata": {},
   "outputs": [
    {
     "data": {
      "text/plain": [
       "True"
      ]
     },
     "execution_count": 3,
     "metadata": {},
     "output_type": "execute_result"
    }
   ],
   "source": [
    "web_address = \"www.facebook.com\"\n",
    "web_address.startswith(web_address)"
   ]
  },
  {
   "cell_type": "code",
   "execution_count": 4,
   "id": "586d50ae",
   "metadata": {},
   "outputs": [
    {
     "data": {
      "text/plain": [
       "True"
      ]
     },
     "execution_count": 4,
     "metadata": {},
     "output_type": "execute_result"
    }
   ],
   "source": [
    "p=\"www.datascience.com\"\n",
    "p.startswith(p)"
   ]
  },
  {
   "cell_type": "code",
   "execution_count": 6,
   "id": "277e9658",
   "metadata": {},
   "outputs": [
    {
     "ename": "NameError",
     "evalue": "name 'py' is not defined",
     "output_type": "error",
     "traceback": [
      "\u001b[1;31m---------------------------------------------------------------------------\u001b[0m",
      "\u001b[1;31mNameError\u001b[0m                                 Traceback (most recent call last)",
      "\u001b[1;32m~\\AppData\\Local\\Temp\\ipykernel_5772\\2279733805.py\u001b[0m in \u001b[0;36m<module>\u001b[1;34m\u001b[0m\n\u001b[0;32m      1\u001b[0m \u001b[0mexample\u001b[0m \u001b[1;33m=\u001b[0m\u001b[1;34m\"python\"\u001b[0m\u001b[1;33m\u001b[0m\u001b[1;33m\u001b[0m\u001b[0m\n\u001b[1;32m----> 2\u001b[1;33m \u001b[0mexample\u001b[0m\u001b[1;33m.\u001b[0m\u001b[0mstartswith\u001b[0m\u001b[1;33m(\u001b[0m\u001b[0mpy\u001b[0m\u001b[1;33m)\u001b[0m\u001b[1;33m\u001b[0m\u001b[1;33m\u001b[0m\u001b[0m\n\u001b[0m",
      "\u001b[1;31mNameError\u001b[0m: name 'py' is not defined"
     ]
    }
   ],
   "source": [
    "example =\"python\"\n",
    "example.startswith(py)"
   ]
  },
  {
   "cell_type": "code",
   "execution_count": 7,
   "id": "c1e5e611",
   "metadata": {},
   "outputs": [
    {
     "data": {
      "text/plain": [
       "True"
      ]
     },
     "execution_count": 7,
     "metadata": {},
     "output_type": "execute_result"
    }
   ],
   "source": [
    "example =\"python\"\n",
    "example.startswith(\"py\")"
   ]
  },
  {
   "cell_type": "code",
   "execution_count": 8,
   "id": "fd166073",
   "metadata": {},
   "outputs": [],
   "source": [
    "variable=\"machine learning\"\n"
   ]
  },
  {
   "cell_type": "code",
   "execution_count": 9,
   "id": "bb47677f",
   "metadata": {},
   "outputs": [
    {
     "data": {
      "text/plain": [
       "True"
      ]
     },
     "execution_count": 9,
     "metadata": {},
     "output_type": "execute_result"
    }
   ],
   "source": [
    "web_address=\"www.datascience.com\"\n",
    "web_address.startswith(\"data\",4,8)"
   ]
  },
  {
   "cell_type": "code",
   "execution_count": 14,
   "id": "67174c11",
   "metadata": {},
   "outputs": [
    {
     "data": {
      "text/plain": [
       "True"
      ]
     },
     "execution_count": 14,
     "metadata": {},
     "output_type": "execute_result"
    }
   ],
   "source": [
    "variable=\"machine learning\"\n",
    "variable.startswith(\"ear\",9 ,13)"
   ]
  },
  {
   "cell_type": "code",
   "execution_count": 17,
   "id": "53aa7786",
   "metadata": {},
   "outputs": [
    {
     "data": {
      "text/plain": [
       "True"
      ]
     },
     "execution_count": 17,
     "metadata": {},
     "output_type": "execute_result"
    }
   ],
   "source": [
    "web_address = \"www.facebook.com\"\n",
    "web_address.endswith(\".com\")"
   ]
  },
  {
   "cell_type": "code",
   "execution_count": 18,
   "id": "45a69bf2",
   "metadata": {},
   "outputs": [
    {
     "data": {
      "text/plain": [
       "True"
      ]
     },
     "execution_count": 18,
     "metadata": {},
     "output_type": "execute_result"
    }
   ],
   "source": [
    "variable = \"artificial intelligence\"\n",
    "variable.endswith(\"ce\")"
   ]
  },
  {
   "cell_type": "code",
   "execution_count": 19,
   "id": "89d7aec9",
   "metadata": {},
   "outputs": [
    {
     "data": {
      "text/plain": [
       "'I Live In Dhaka'"
      ]
     },
     "execution_count": 19,
     "metadata": {},
     "output_type": "execute_result"
    }
   ],
   "source": [
    "sentence= \"I live in Dhaka\"   #if we are useing (title) keywords thn every wrods first letter showing us with uppercase\n",
    "sentence.title()"
   ]
  },
  {
   "cell_type": "code",
   "execution_count": 21,
   "id": "d098f2d5",
   "metadata": {},
   "outputs": [
    {
     "data": {
      "text/plain": [
       "'Data Is The New Oil!'"
      ]
     },
     "execution_count": 21,
     "metadata": {},
     "output_type": "execute_result"
    }
   ],
   "source": [
    "variable =\"Data Is The New Oil!\"\n",
    "variable.title()\n"
   ]
  },
  {
   "cell_type": "code",
   "execution_count": 24,
   "id": "e1a7e4a9",
   "metadata": {},
   "outputs": [
    {
     "data": {
      "text/plain": [
       "'dATA iS tHE nEW oIL!'"
      ]
     },
     "execution_count": 24,
     "metadata": {},
     "output_type": "execute_result"
    }
   ],
   "source": [
    "variable= \"data is the new oil!\"   #if we are useing (.swapcase) keyword the every words only first letter become lower case\n",
    "variable.title().swapcase()"
   ]
  },
  {
   "cell_type": "code",
   "execution_count": 26,
   "id": "f70ef6e0",
   "metadata": {},
   "outputs": [
    {
     "data": {
      "text/plain": [
       "'hELLOW wORLD ,wE aRE iNTRODUCING oUR bIG cOMPANY bIG dATA'"
      ]
     },
     "execution_count": 26,
     "metadata": {},
     "output_type": "execute_result"
    }
   ],
   "source": [
    "variable33=\"HELLOW WORLD ,WE ARE INTRODUCING OUR BIG COMPANY BIG DATA\"    #done ,its working \n",
    "variable33.title().swapcase()"
   ]
  },
  {
   "cell_type": "code",
   "execution_count": 28,
   "id": "71876d54",
   "metadata": {},
   "outputs": [
    {
     "data": {
      "text/plain": [
       "'python    7'"
      ]
     },
     "execution_count": 28,
     "metadata": {},
     "output_type": "execute_result"
    }
   ],
   "source": [
    "variable=\"       python    7 \"  #(strip) keyword remove any kind of space and letter in any word\n",
    "variable.strip()"
   ]
  },
  {
   "cell_type": "code",
   "execution_count": 32,
   "id": "f622e3e7",
   "metadata": {},
   "outputs": [
    {
     "ename": "NameError",
     "evalue": "name 's' is not defined",
     "output_type": "error",
     "traceback": [
      "\u001b[1;31m---------------------------------------------------------------------------\u001b[0m",
      "\u001b[1;31mNameError\u001b[0m                                 Traceback (most recent call last)",
      "\u001b[1;32m~\\AppData\\Local\\Temp\\ipykernel_5772\\1191579126.py\u001b[0m in \u001b[0;36m<module>\u001b[1;34m\u001b[0m\n\u001b[0;32m      1\u001b[0m \u001b[0mvariable\u001b[0m \u001b[1;33m=\u001b[0m \u001b[1;34m\"   shabbir  mollek  \"\u001b[0m\u001b[1;33m\u001b[0m\u001b[1;33m\u001b[0m\u001b[0m\n\u001b[1;32m----> 2\u001b[1;33m \u001b[0mvariable\u001b[0m \u001b[1;33m.\u001b[0m\u001b[0mstrip\u001b[0m\u001b[1;33m(\u001b[0m\u001b[0ms\u001b[0m\u001b[1;33m)\u001b[0m\u001b[1;33m\u001b[0m\u001b[1;33m\u001b[0m\u001b[0m\n\u001b[0m",
      "\u001b[1;31mNameError\u001b[0m: name 's' is not defined"
     ]
    }
   ],
   "source": [
    "variable = \"   shabbir  mollek  \"\n",
    "variable .strip(s)"
   ]
  },
  {
   "cell_type": "code",
   "execution_count": 37,
   "id": "5aed7499",
   "metadata": {},
   "outputs": [
    {
     "data": {
      "text/plain": [
       "'python app'"
      ]
     },
     "execution_count": 37,
     "metadata": {},
     "output_type": "execute_result"
    }
   ],
   "source": [
    "variable =\"          python app         \"     #(strip) keyword working by remove space\n",
    "variable.strip()"
   ]
  },
  {
   "cell_type": "code",
   "execution_count": 44,
   "id": "89c0518a",
   "metadata": {},
   "outputs": [
    {
     "data": {
      "text/plain": [
       "'python data science'"
      ]
     },
     "execution_count": 44,
     "metadata": {},
     "output_type": "execute_result"
    }
   ],
   "source": [
    "space='  python data science '      #confusede \n",
    "space.strip().strip(\"y\")"
   ]
  },
  {
   "cell_type": "code",
   "execution_count": 45,
   "id": "51a9d23d",
   "metadata": {},
   "outputs": [
    {
     "data": {
      "text/plain": [
       "'   python app    '"
      ]
     },
     "execution_count": 45,
     "metadata": {},
     "output_type": "execute_result"
    }
   ],
   "source": [
    "variable=\"   python app    \"\n",
    "variable.rstrip(\"p\")"
   ]
  },
  {
   "cell_type": "code",
   "execution_count": 50,
   "id": "68ad6013",
   "metadata": {},
   "outputs": [
    {
     "data": {
      "text/plain": [
       "'   py'"
      ]
     },
     "execution_count": 50,
     "metadata": {},
     "output_type": "execute_result"
    }
   ],
   "source": [
    "variable = \"   python app   \"      #(rstrip) this keyword remove righthand space and specefic letter in word \n",
    "variable.rstrip().rstrip(\"thon app\")"
   ]
  },
  {
   "cell_type": "code",
   "execution_count": 51,
   "id": "e755e15c",
   "metadata": {},
   "outputs": [
    {
     "data": {
      "text/plain": [
       "'hon app   '"
      ]
     },
     "execution_count": 51,
     "metadata": {},
     "output_type": "execute_result"
    }
   ],
   "source": [
    "variable = \"   python app   \"      #(lstrip) this keyword remove lefthand space and specefic letter in word \n",
    "variable.lstrip().lstrip(\"pyt\")"
   ]
  },
  {
   "cell_type": "code",
   "execution_count": 52,
   "id": "9b3393fa",
   "metadata": {},
   "outputs": [
    {
     "data": {
      "text/plain": [
       "['__add__',\n",
       " '__class__',\n",
       " '__contains__',\n",
       " '__delattr__',\n",
       " '__dir__',\n",
       " '__doc__',\n",
       " '__eq__',\n",
       " '__format__',\n",
       " '__ge__',\n",
       " '__getattribute__',\n",
       " '__getitem__',\n",
       " '__getnewargs__',\n",
       " '__gt__',\n",
       " '__hash__',\n",
       " '__init__',\n",
       " '__init_subclass__',\n",
       " '__iter__',\n",
       " '__le__',\n",
       " '__len__',\n",
       " '__lt__',\n",
       " '__mod__',\n",
       " '__mul__',\n",
       " '__ne__',\n",
       " '__new__',\n",
       " '__reduce__',\n",
       " '__reduce_ex__',\n",
       " '__repr__',\n",
       " '__rmod__',\n",
       " '__rmul__',\n",
       " '__setattr__',\n",
       " '__sizeof__',\n",
       " '__str__',\n",
       " '__subclasshook__',\n",
       " 'capitalize',\n",
       " 'casefold',\n",
       " 'center',\n",
       " 'count',\n",
       " 'encode',\n",
       " 'endswith',\n",
       " 'expandtabs',\n",
       " 'find',\n",
       " 'format',\n",
       " 'format_map',\n",
       " 'index',\n",
       " 'isalnum',\n",
       " 'isalpha',\n",
       " 'isascii',\n",
       " 'isdecimal',\n",
       " 'isdigit',\n",
       " 'isidentifier',\n",
       " 'islower',\n",
       " 'isnumeric',\n",
       " 'isprintable',\n",
       " 'isspace',\n",
       " 'istitle',\n",
       " 'isupper',\n",
       " 'join',\n",
       " 'ljust',\n",
       " 'lower',\n",
       " 'lstrip',\n",
       " 'maketrans',\n",
       " 'partition',\n",
       " 'removeprefix',\n",
       " 'removesuffix',\n",
       " 'replace',\n",
       " 'rfind',\n",
       " 'rindex',\n",
       " 'rjust',\n",
       " 'rpartition',\n",
       " 'rsplit',\n",
       " 'rstrip',\n",
       " 'split',\n",
       " 'splitlines',\n",
       " 'startswith',\n",
       " 'strip',\n",
       " 'swapcase',\n",
       " 'title',\n",
       " 'translate',\n",
       " 'upper',\n",
       " 'zfill']"
      ]
     },
     "execution_count": 52,
     "metadata": {},
     "output_type": "execute_result"
    }
   ],
   "source": [
    "space= \"   example  \"\n",
    "dir(space)"
   ]
  },
  {
   "cell_type": "code",
   "execution_count": 3,
   "id": "51a8dd41",
   "metadata": {},
   "outputs": [
    {
     "data": {
      "text/plain": [
       "'r'"
      ]
     },
     "execution_count": 3,
     "metadata": {},
     "output_type": "execute_result"
    }
   ],
   "source": [
    "car = \"Ferrari\"     #its index calling\n",
    "\n",
    "car[2]\n",
    "\n"
   ]
  },
  {
   "cell_type": "code",
   "execution_count": 4,
   "id": "86a50b3d",
   "metadata": {},
   "outputs": [
    {
     "data": {
      "text/plain": [
       "'erra'"
      ]
     },
     "execution_count": 4,
     "metadata": {},
     "output_type": "execute_result"
    }
   ],
   "source": [
    "car=\"ferrari\"\n",
    "car[1:5]"
   ]
  },
  {
   "cell_type": "code",
   "execution_count": 5,
   "id": "6711aeb7",
   "metadata": {},
   "outputs": [
    {
     "data": {
      "text/plain": [
       "'rrar'"
      ]
     },
     "execution_count": 5,
     "metadata": {},
     "output_type": "execute_result"
    }
   ],
   "source": [
    "car=\"Ferrari\"\n",
    "car[2:6]"
   ]
  },
  {
   "cell_type": "code",
   "execution_count": 9,
   "id": "3f064a4c",
   "metadata": {},
   "outputs": [
    {
     "data": {
      "text/plain": [
       "'r'"
      ]
     },
     "execution_count": 9,
     "metadata": {},
     "output_type": "execute_result"
    }
   ],
   "source": [
    "car= \"Ferrari\"\n",
    "car[2::6]"
   ]
  },
  {
   "cell_type": "code",
   "execution_count": 11,
   "id": "ba5cf714",
   "metadata": {},
   "outputs": [
    {
     "data": {
      "text/plain": [
       "' python'"
      ]
     },
     "execution_count": 11,
     "metadata": {},
     "output_type": "execute_result"
    }
   ],
   "source": [
    "variable= \"I love python\"\n",
    "variable[6:13]"
   ]
  },
  {
   "cell_type": "code",
   "execution_count": 13,
   "id": "885cd2ff",
   "metadata": {},
   "outputs": [
    {
     "data": {
      "text/plain": [
       "' ley'"
      ]
     },
     "execution_count": 13,
     "metadata": {},
     "output_type": "execute_result"
    }
   ],
   "source": [
    "variable=\" I love Python\"\n",
    "variable[0:10:3]"
   ]
  },
  {
   "cell_type": "code",
   "execution_count": 18,
   "id": "653a597a",
   "metadata": {},
   "outputs": [
    {
     "name": "stdout",
     "output_type": "stream",
     "text": [
      "fer\n"
     ]
    }
   ],
   "source": [
    "car=\"ferrari\"\n",
    "print(car[:3])"
   ]
  },
  {
   "cell_type": "code",
   "execution_count": 19,
   "id": "2d08633d",
   "metadata": {},
   "outputs": [
    {
     "name": "stdout",
     "output_type": "stream",
     "text": [
      "i lo\n"
     ]
    }
   ],
   "source": [
    "variable=\"i love python \"\n",
    "print (variable[:4])"
   ]
  },
  {
   "cell_type": "code",
   "execution_count": 20,
   "id": "d56f7b42",
   "metadata": {},
   "outputs": [
    {
     "data": {
      "text/plain": [
       "'s'"
      ]
     },
     "execution_count": 20,
     "metadata": {},
     "output_type": "execute_result"
    }
   ],
   "source": [
    "variable=\"computer science\"\n",
    "variable[-7]"
   ]
  },
  {
   "cell_type": "code",
   "execution_count": 21,
   "id": "5a2e41ac",
   "metadata": {},
   "outputs": [
    {
     "data": {
      "text/plain": [
       "'rra'"
      ]
     },
     "execution_count": 21,
     "metadata": {},
     "output_type": "execute_result"
    }
   ],
   "source": [
    "car=\"ferrari\"\n",
    "car[-5:-2]"
   ]
  },
  {
   "cell_type": "code",
   "execution_count": 22,
   "id": "20e83ddd",
   "metadata": {},
   "outputs": [
    {
     "data": {
      "text/plain": [
       "'puter'"
      ]
     },
     "execution_count": 22,
     "metadata": {},
     "output_type": "execute_result"
    }
   ],
   "source": [
    "variable= \"computer science\"\n",
    "variable[-13:-8]"
   ]
  },
  {
   "cell_type": "code",
   "execution_count": 28,
   "id": "a836204f",
   "metadata": {},
   "outputs": [
    {
     "name": "stdout",
     "output_type": "stream",
     "text": [
      "shabbirmollik\n"
     ]
    }
   ],
   "source": [
    "nba=\"shabbir\"\n",
    "\n",
    "nba=nba + \"mollik\"\n",
    "print(nba)\n"
   ]
  },
  {
   "cell_type": "code",
   "execution_count": 31,
   "id": "db3cedca",
   "metadata": {},
   "outputs": [
    {
     "name": "stdout",
     "output_type": "stream",
     "text": [
      "Datascience\n"
     ]
    }
   ],
   "source": [
    "variable= \"Data\"\n",
    "variable=variable + \"science\"\n",
    "print(variable)"
   ]
  },
  {
   "cell_type": "code",
   "execution_count": 32,
   "id": "b43de023",
   "metadata": {},
   "outputs": [
    {
     "name": "stdout",
     "output_type": "stream",
     "text": [
      "lakers lakers lakers \n"
     ]
    }
   ],
   "source": [
    "nba=\"lakers \"\n",
    "nba *=3\n",
    "print(nba)"
   ]
  },
  {
   "cell_type": "code",
   "execution_count": 33,
   "id": "51b2b3dc",
   "metadata": {},
   "outputs": [
    {
     "name": "stdout",
     "output_type": "stream",
     "text": [
      "pythonpythonpythonpython\n"
     ]
    }
   ],
   "source": [
    "variable =\"python\"\n",
    "variable *=4\n",
    "print(variable)"
   ]
  },
  {
   "cell_type": "code",
   "execution_count": 34,
   "id": "7c1fa556",
   "metadata": {},
   "outputs": [
    {
     "name": "stdout",
     "output_type": "stream",
     "text": [
      "The atomic number of the element Hydrogen is 1 .\n"
     ]
    }
   ],
   "source": [
    "element=\"The atomic number of the element {} is {} .\"     #there is called string.format keyword \n",
    "print(element.format(\"Hydrogen\" ,1))                     #and that is working on replacing in fixed position on {}"
   ]
  },
  {
   "cell_type": "code",
   "execution_count": 36,
   "id": "c313a458",
   "metadata": {},
   "outputs": [
    {
     "name": "stdout",
     "output_type": "stream",
     "text": [
      " The atomic number of the element Hydrogen is 1 .\n"
     ]
    }
   ],
   "source": [
    "element=\" The atomic number of the element {} is {} .\"  #we are working in this line elememt format by variable thats why we are not useing \"\" this one \n",
    "value1= \"Hydrogen\"\n",
    "value2=1\n",
    "print(element.format(value1 , value2))"
   ]
  },
  {
   "cell_type": "code",
   "execution_count": 38,
   "id": "6b79baf9",
   "metadata": {},
   "outputs": [
    {
     "data": {
      "text/plain": [
       "'The atomic number of the element hydrogen is 1.'"
      ]
     },
     "execution_count": 38,
     "metadata": {},
     "output_type": "execute_result"
    }
   ],
   "source": [
    "value2= 1                          #there is  called f-string methods \n",
    "value1=\"hydrogen\"\n",
    "f\"The atomic number of the element {value1} is {value2}.\""
   ]
  },
  {
   "cell_type": "code",
   "execution_count": 39,
   "id": "b8fa3570",
   "metadata": {},
   "outputs": [
    {
     "data": {
      "text/plain": [
       "'My surename is ADOR'"
      ]
     },
     "execution_count": 39,
     "metadata": {},
     "output_type": "execute_result"
    }
   ],
   "source": [
    "surname=\"Ador\"\n",
    "f\"My surename is {surname.upper()}\""
   ]
  },
  {
   "cell_type": "code",
   "execution_count": 2,
   "id": "974b7250",
   "metadata": {},
   "outputs": [
    {
     "name": "stdout",
     "output_type": "stream",
     "text": [
      "False\n"
     ]
    }
   ],
   "source": [
    "list_example2=[\"berlin\",\"washington\",[\"ankara\",100],False]\n",
    "print(list_example2[3])"
   ]
  },
  {
   "cell_type": "code",
   "execution_count": 3,
   "id": "b51c131a",
   "metadata": {},
   "outputs": [
    {
     "name": "stdout",
     "output_type": "stream",
     "text": [
      "[2, 4, 6, 8]\n"
     ]
    }
   ],
   "source": [
    "list_example4=[\"Rahim\",\"karim\",[2,4,6,8],True]\n",
    "print(list_example4[2])"
   ]
  },
  {
   "cell_type": "code",
   "execution_count": 7,
   "id": "adab5440",
   "metadata": {},
   "outputs": [
    {
     "name": "stdout",
     "output_type": "stream",
     "text": [
      "8\n"
     ]
    }
   ],
   "source": [
    "list_example4=[\"Rahim\",\"karim\",[2,4,6,8],True]\n",
    "print(list_example4[2][3])"
   ]
  },
  {
   "cell_type": "code",
   "execution_count": 8,
   "id": "c7c6d58b",
   "metadata": {},
   "outputs": [
    {
     "name": "stdout",
     "output_type": "stream",
     "text": [
      "ankara\n"
     ]
    }
   ],
   "source": [
    "list_example5=[\"berlin\",\"washington\",[\"ankara\",1000],False]\n",
    "print(list_example5[2][0])"
   ]
  },
  {
   "cell_type": "code",
   "execution_count": 9,
   "id": "69b3acb2",
   "metadata": {},
   "outputs": [
    {
     "name": "stdout",
     "output_type": "stream",
     "text": [
      "['berlin', 'washington', ['ankara', 1000]]\n"
     ]
    }
   ],
   "source": [
    "list_example5=[\"berlin\",\"washington\",[\"ankara\",1000],False]\n",
    "print(list_example5[0:3])"
   ]
  },
  {
   "cell_type": "code",
   "execution_count": 11,
   "id": "7d94ba10",
   "metadata": {},
   "outputs": [
    {
     "name": "stdout",
     "output_type": "stream",
     "text": [
      "[10, 20, 39, 49, 59, 73, 9827, 30]\n"
     ]
    }
   ],
   "source": [
    "int_list=[10,20,39,49,59,73,9827]      #(append)keywords only useing for adding any specefic integer\n",
    "int_list.append(30)                    \n",
    "print(int_list)"
   ]
  },
  {
   "cell_type": "code",
   "execution_count": 16,
   "id": "cf911be5",
   "metadata": {},
   "outputs": [
    {
     "name": "stdout",
     "output_type": "stream",
     "text": [
      "['germany', 'india', 'pakistan', 'australia', 'japan', 'russia']\n"
     ]
    }
   ],
   "source": [
    "new_list=[\"germany\",\"india\",\"pakistan\",\"australia\",\"japan\"]\n",
    "new_list.append(\"russia\")\n",
    "print(new_list)"
   ]
  },
  {
   "cell_type": "code",
   "execution_count": 17,
   "id": "c30a3905",
   "metadata": {},
   "outputs": [
    {
     "name": "stdout",
     "output_type": "stream",
     "text": [
      "['germany', 'pakistan', 'australia', 'japan']\n"
     ]
    }
   ],
   "source": [
    "new_list=[\"germany\",\"india\",\"pakistan\",\"australia\",\"japan\"]     #(remove) keyword useing for removing or delete specefic equiepment\n",
    "new_list.remove(\"india\")\n",
    "print(new_list)"
   ]
  },
  {
   "cell_type": "code",
   "execution_count": 18,
   "id": "e6f6e52d",
   "metadata": {},
   "outputs": [
    {
     "name": "stdout",
     "output_type": "stream",
     "text": [
      "[10, 20, 222, 3000, 456, 53, 4, 5]\n"
     ]
    }
   ],
   "source": [
    "int_list=[ 10,20,222,456,53,4,5]             #(insert)keywords only useing for equipment specefic postion adding something\n",
    "int_list.insert(3,3000)\n",
    "print(int_list)"
   ]
  },
  {
   "cell_type": "code",
   "execution_count": 21,
   "id": "b1dfde36",
   "metadata": {},
   "outputs": [
    {
     "name": "stdout",
     "output_type": "stream",
     "text": [
      "['iphone', 'samsung', 'xiaomi', 'nokia', 'lg']\n"
     ]
    }
   ],
   "source": [
    "brand=[\"iphone\",\"samsung\",\"nokia\",\"lg\"]\n",
    "brand.insert(2,\"xiaomi\")\n",
    "print(brand)"
   ]
  },
  {
   "cell_type": "code",
   "execution_count": 22,
   "id": "0daee1e0",
   "metadata": {},
   "outputs": [
    {
     "name": "stdout",
     "output_type": "stream",
     "text": [
      "[10, 20, 222, 53, 4, 5]\n"
     ]
    }
   ],
   "source": [
    "int_list=[ 10,20,222,456,53,4,5]             #(pop)keywords only useing for removing specefic position value\n",
    "int_list.pop(3)\n",
    "print(int_list)"
   ]
  },
  {
   "cell_type": "code",
   "execution_count": 23,
   "id": "fa85bf56",
   "metadata": {},
   "outputs": [
    {
     "name": "stdout",
     "output_type": "stream",
     "text": [
      "[2, 3, 22, 33, 33, 43, 45, 66, 4565]\n"
     ]
    }
   ],
   "source": [
    "int_list=[22,3,33,43,2,33,45,66,4565]     #(sort)keyword its useing for lower to upper numeric number\n",
    "int_list.sort()\n",
    "print(int_list)"
   ]
  },
  {
   "cell_type": "code",
   "execution_count": 24,
   "id": "d4d0863d",
   "metadata": {},
   "outputs": [
    {
     "data": {
      "text/plain": [
       "list"
      ]
     },
     "execution_count": 24,
     "metadata": {},
     "output_type": "execute_result"
    }
   ],
   "source": [
    "type(int_list)"
   ]
  },
  {
   "cell_type": "code",
   "execution_count": 25,
   "id": "b8e706b4",
   "metadata": {},
   "outputs": [
    {
     "data": {
      "text/plain": [
       "9"
      ]
     },
     "execution_count": 25,
     "metadata": {},
     "output_type": "execute_result"
    }
   ],
   "source": [
    "len(int_list)"
   ]
  },
  {
   "cell_type": "code",
   "execution_count": 26,
   "id": "39e640e9",
   "metadata": {},
   "outputs": [
    {
     "name": "stdout",
     "output_type": "stream",
     "text": [
      "<class 'tuple'>\n"
     ]
    }
   ],
   "source": [
    "list1=\"python\",\"java\",\"c++\"\n",
    "print(type(list1))"
   ]
  },
  {
   "cell_type": "code",
   "execution_count": 28,
   "id": "098a81a3",
   "metadata": {},
   "outputs": [
    {
     "name": "stdout",
     "output_type": "stream",
     "text": [
      "(10, 20, 'hello', 'world')\n",
      "<class 'tuple'>\n"
     ]
    }
   ],
   "source": [
    "new_list=[10,20,\"hello\",\"world\"]\n",
    "new_tuple=tuple(new_list)\n",
    "print(new_tuple)\n",
    "print(type(new_tuple))"
   ]
  },
  {
   "cell_type": "code",
   "execution_count": 31,
   "id": "8fb43c72",
   "metadata": {},
   "outputs": [
    {
     "name": "stdout",
     "output_type": "stream",
     "text": [
      "('python', 'java', 'c++')\n"
     ]
    }
   ],
   "source": [
    "list2=[\"python\",\"java\",\"c++\"]\n",
    "new_tuple=tuple(list2)\n",
    "print(new_tuple)"
   ]
  },
  {
   "cell_type": "code",
   "execution_count": 44,
   "id": "078a15fd",
   "metadata": {},
   "outputs": [
    {
     "ename": "NameError",
     "evalue": "name 'secondary_palnet' is not defined",
     "output_type": "error",
     "traceback": [
      "\u001b[1;31m---------------------------------------------------------------------------\u001b[0m",
      "\u001b[1;31mNameError\u001b[0m                                 Traceback (most recent call last)",
      "\u001b[1;32m~\\AppData\\Local\\Temp\\ipykernel_10524\\2872457184.py\u001b[0m in \u001b[0;36m<module>\u001b[1;34m\u001b[0m\n\u001b[0;32m      2\u001b[0m                  \u001b[1;34m\"saturn\"\u001b[0m\u001b[1;33m:\u001b[0m\u001b[1;34m\"titan\"\u001b[0m\u001b[1;33m,\u001b[0m\u001b[1;33m\u001b[0m\u001b[1;33m\u001b[0m\u001b[0m\n\u001b[0;32m      3\u001b[0m                  \"jupitar\":\"europa\"}\n\u001b[1;32m----> 4\u001b[1;33m \u001b[1;32mdel\u001b[0m \u001b[0msecondary_palnet\u001b[0m\u001b[1;33m[\u001b[0m\u001b[1;34m\"jupitar\"\u001b[0m\u001b[1;33m]\u001b[0m\u001b[1;33m\u001b[0m\u001b[1;33m\u001b[0m\u001b[0m\n\u001b[0m",
      "\u001b[1;31mNameError\u001b[0m: name 'secondary_palnet' is not defined"
     ]
    }
   ],
   "source": [
    "secondary_planet={\"earth\":\"moon\",\n",
    "                 \"saturn\":\"titan\",\n",
    "                 \"jupitar\":\"europa\"}\n",
    "del secondary_palnet[\"jupitar\"]"
   ]
  },
  {
   "cell_type": "code",
   "execution_count": 11,
   "id": "e1994f4b",
   "metadata": {},
   "outputs": [
    {
     "name": "stdout",
     "output_type": "stream",
     "text": [
      "dict_items([('germany', 2006), ('south africa', 2010), ('brazil', 2014), ('russia', 2022)])\n"
     ]
    }
   ],
   "source": [
    "world_cup={\"germany\": 2006,\n",
    "              \"south africa\":2010,\n",
    "              \"brazil\":2014,\n",
    "              \"russia\":2022}\n",
    "print(world_cup.items())"
   ]
  },
  {
   "cell_type": "code",
   "execution_count": 12,
   "id": "82062ffc",
   "metadata": {},
   "outputs": [
    {
     "data": {
      "text/plain": [
       "dict_keys(['germany', 'south africa', 'brazil', 'russia'])"
      ]
     },
     "execution_count": 12,
     "metadata": {},
     "output_type": "execute_result"
    }
   ],
   "source": [
    "world_cup={\"germany\": 2006,\n",
    "              \"south africa\":2010,\n",
    "              \"brazil\":2014,\n",
    "              \"russia\":2022}\n",
    "world_cup.keys()"
   ]
  },
  {
   "cell_type": "code",
   "execution_count": 14,
   "id": "e2427f7a",
   "metadata": {},
   "outputs": [
    {
     "name": "stdout",
     "output_type": "stream",
     "text": [
      "dict_keys(['germany', 'south africa', 'brazil', 'russia'])\n"
     ]
    }
   ],
   "source": [
    "world_cup={\"germany\": 2006,               #keys method\n",
    "              \"south africa\":2010,\n",
    "              \"brazil\":2014,\n",
    "              \"russia\":2022}\n",
    "print(world_cup.keys())"
   ]
  },
  {
   "cell_type": "code",
   "execution_count": 17,
   "id": "360db719",
   "metadata": {},
   "outputs": [
    {
     "name": "stdout",
     "output_type": "stream",
     "text": [
      "dict_values(['dhaka', 'cumilla', 'BARISHAL', 'SYhlet'])\n"
     ]
    }
   ],
   "source": [
    "world_cup={\"germany\":\"dhaka\",               #value method\n",
    "              \"south africa\":\"cumilla\",     #values must be string other output error\n",
    "              \"brazil\":\"BARISHAL\",\n",
    "              \"russia\":\"SYhlet\"}\n",
    "print(world_cup.values())"
   ]
  },
  {
   "cell_type": "code",
   "execution_count": 21,
   "id": "81a04494",
   "metadata": {},
   "outputs": [
    {
     "name": "stdout",
     "output_type": "stream",
     "text": [
      "{'germany': 'dhaka', 'south africa': 'cumilla', 'brazil': 'BARISHAL', 'russia': 'SYhlet', 'bangladesh': 'dhafa'}\n"
     ]
    }
   ],
   "source": [
    "world_cup={\"germany\":\"dhaka\",                 #update keyword adding \n",
    "           \n",
    "           \"south africa\":\"cumilla\",  \n",
    "           \n",
    "           \"brazil\":\"BARISHAL\",\n",
    "           \n",
    "           \"russia\":\"SYhlet\"}\n",
    "world_cup.update({\"bangladesh\":\"dhafa\"})\n",
    "\n",
    "print(world_cup)"
   ]
  },
  {
   "cell_type": "code",
   "execution_count": 22,
   "id": "cefbf862",
   "metadata": {},
   "outputs": [
    {
     "name": "stdout",
     "output_type": "stream",
     "text": [
      "{34, 43, 55, 54, 22, 56}\n"
     ]
    }
   ],
   "source": [
    "list1= [22,34,54,56,55,43]        #list converted to set\n",
    "set1=set(list1)\n",
    "print(set1)"
   ]
  },
  {
   "cell_type": "code",
   "execution_count": 24,
   "id": "03836098",
   "metadata": {},
   "outputs": [
    {
     "name": "stdout",
     "output_type": "stream",
     "text": [
      "{34, 44455, 43, 55, 54, 22, 56}\n"
     ]
    }
   ],
   "source": [
    "set1.add(44455)              #add equiepment in list and converted to set\n",
    "print(set1)"
   ]
  },
  {
   "cell_type": "code",
   "execution_count": 25,
   "id": "ab022b7c",
   "metadata": {},
   "outputs": [
    {
     "name": "stdout",
     "output_type": "stream",
     "text": [
      "{25, 125, 5, 625}\n"
     ]
    }
   ],
   "source": [
    "list_example=[5,25,125,25,125]\n",
    "set1=set(list_example)\n",
    "set1.add(625)\n",
    "print(set1)"
   ]
  },
  {
   "cell_type": "code",
   "execution_count": 27,
   "id": "99c75723",
   "metadata": {},
   "outputs": [
    {
     "name": "stdout",
     "output_type": "stream",
     "text": [
      "{125, 5}\n"
     ]
    }
   ],
   "source": [
    "list_example=[5,25,125,25,125]\n",
    "set1=set(list_example)\n",
    "set1.remove(25)\n",
    "print(set1)"
   ]
  },
  {
   "cell_type": "code",
   "execution_count": 31,
   "id": "7cb2ebb7",
   "metadata": {},
   "outputs": [
    {
     "name": "stdout",
     "output_type": "stream",
     "text": [
      "{66, 778, 22, 55, 88}\n"
     ]
    }
   ],
   "source": [
    "list3=[22,33,444,55,66,77,778,88]\n",
    "set3=set(list3)\n",
    "set3.remove(444)\n",
    "set3.remove(33)\n",
    "set3.remove(77)\n",
    "print(set3)"
   ]
  },
  {
   "cell_type": "code",
   "execution_count": 33,
   "id": "f7a852f4",
   "metadata": {},
   "outputs": [
    {
     "data": {
      "text/plain": [
       "{11, 12, 17}"
      ]
     },
     "execution_count": 33,
     "metadata": {},
     "output_type": "execute_result"
    }
   ],
   "source": [
    "list1=[2,4,6,5,12,11,17]\n",
    "list2=[1,2,4,5,3,6,7,8,9]\n",
    "first_set=set(list1)\n",
    "second_set=set(list2)\n",
    "first_set.difference(second_set)"
   ]
  },
  {
   "cell_type": "code",
   "execution_count": 34,
   "id": "319742e0",
   "metadata": {},
   "outputs": [
    {
     "data": {
      "text/plain": [
       "{1, 3, 7, 8, 9}"
      ]
     },
     "execution_count": 34,
     "metadata": {},
     "output_type": "execute_result"
    }
   ],
   "source": [
    "list1=[2,4,6,5,12,11,17]\n",
    "list2=[1,2,4,5,3,6,7,8,9]\n",
    "first_set=set(list1)\n",
    "second_set=set(list2)\n",
    "second_set.difference(first_set)"
   ]
  },
  {
   "cell_type": "code",
   "execution_count": 2,
   "id": "5dc14d2a",
   "metadata": {},
   "outputs": [
    {
     "data": {
      "text/plain": [
       "{2, 4, 5, 6}"
      ]
     },
     "execution_count": 2,
     "metadata": {},
     "output_type": "execute_result"
    }
   ],
   "source": [
    "list1=[2,4,6,5,12,11,17]\n",
    "list2=[1,2,4,5,3,6,7,8,9]\n",
    "first_set=set(list1)\n",
    "second_set=set(list2)\n",
    "second_set.intersection(first_set)"
   ]
  },
  {
   "cell_type": "code",
   "execution_count": 3,
   "id": "6512e535",
   "metadata": {},
   "outputs": [],
   "source": [
    "list1=[2,4,6,5,12,11,17]\n",
    "list2=[1,2,4,5,3,6,7,8,9]\n",
    "first_set=set(list1)\n",
    "second_set=set(list2)"
   ]
  },
  {
   "cell_type": "code",
   "execution_count": 4,
   "id": "6d170db1",
   "metadata": {},
   "outputs": [
    {
     "data": {
      "text/plain": [
       "{2, 4, 5, 6}"
      ]
     },
     "execution_count": 4,
     "metadata": {},
     "output_type": "execute_result"
    }
   ],
   "source": [
    "first_set & second_set"
   ]
  },
  {
   "cell_type": "code",
   "execution_count": 5,
   "id": "ba50edae",
   "metadata": {},
   "outputs": [
    {
     "data": {
      "text/plain": [
       "{1, 2, 3, 4, 5, 6, 7, 8, 9, 11, 12, 17}"
      ]
     },
     "execution_count": 5,
     "metadata": {},
     "output_type": "execute_result"
    }
   ],
   "source": [
    "list1=[2,4,6,5,12,11,17]\n",
    "list2=[1,2,4,5,3,6,7,8,9]\n",
    "first_set=set(list1)\n",
    "second_set=set(list2)\n",
    "second_set.union(first_set)"
   ]
  },
  {
   "cell_type": "code",
   "execution_count": 6,
   "id": "e8b4f0c3",
   "metadata": {},
   "outputs": [
    {
     "data": {
      "text/plain": [
       "{1, 2, 3, 4, 5, 6, 7, 8, 9, 11, 12, 17}"
      ]
     },
     "execution_count": 6,
     "metadata": {},
     "output_type": "execute_result"
    }
   ],
   "source": [
    "list1=[2,4,6,5,12,11,17]                      #there is also code union and another one is and funcyion or keyword\n",
    "list2=[1,2,4,5,3,6,7,8,9]\n",
    "first_set=set(list1)\n",
    "second_set=set(list2)\n",
    "second_set | first_set"
   ]
  },
  {
   "cell_type": "code",
   "execution_count": 8,
   "id": "102db753",
   "metadata": {},
   "outputs": [
    {
     "data": {
      "text/plain": [
       "True"
      ]
     },
     "execution_count": 8,
     "metadata": {},
     "output_type": "execute_result"
    }
   ],
   "source": [
    "set_example_1 = set([1,3,5,7])\n",
    "set_example_2= set([1,2,3,4,5,6,7,8,9,10])\n",
    "set_example_1 .issubset(set_example_2)"
   ]
  },
  {
   "cell_type": "code",
   "execution_count": 9,
   "id": "149707fe",
   "metadata": {},
   "outputs": [
    {
     "name": "stdout",
     "output_type": "stream",
     "text": [
      "False\n"
     ]
    }
   ],
   "source": [
    "print(10>10.3)               #conditional function\n"
   ]
  },
  {
   "cell_type": "code",
   "execution_count": 10,
   "id": "9e148b3b",
   "metadata": {},
   "outputs": [
    {
     "name": "stdout",
     "output_type": "stream",
     "text": [
      "True\n"
     ]
    }
   ],
   "source": [
    "print(5.85<5.87)"
   ]
  },
  {
   "cell_type": "code",
   "execution_count": 13,
   "id": "a689754a",
   "metadata": {},
   "outputs": [
    {
     "name": "stdout",
     "output_type": "stream",
     "text": [
      "True\n"
     ]
    }
   ],
   "source": [
    "print(5.0 == 5)"
   ]
  },
  {
   "cell_type": "code",
   "execution_count": 14,
   "id": "7af3f811",
   "metadata": {},
   "outputs": [
    {
     "name": "stdout",
     "output_type": "stream",
     "text": [
      "False\n"
     ]
    }
   ],
   "source": [
    "print(5.0 != 5)"
   ]
  },
  {
   "cell_type": "code",
   "execution_count": 19,
   "id": "601eea05",
   "metadata": {},
   "outputs": [
    {
     "name": "stdout",
     "output_type": "stream",
     "text": [
      "please enter the purches amount : 2500\n",
      "You can get 50% discount in our showroom \n"
     ]
    }
   ],
   "source": [
    "amount=int(input(\"please enter the purches amount : \"))\n",
    "\n",
    "\n",
    "if amount > 1500 :\n",
    "    \n",
    "    print(\"You can get 50% discount in our showroom \")"
   ]
  },
  {
   "cell_type": "code",
   "execution_count": 1,
   "id": "6e635c6b",
   "metadata": {},
   "outputs": [
    {
     "name": "stdout",
     "output_type": "stream",
     "text": [
      "13\n"
     ]
    }
   ],
   "source": [
    "print (5+8)"
   ]
  },
  {
   "cell_type": "code",
   "execution_count": 2,
   "id": "3ca41ed3",
   "metadata": {},
   "outputs": [
    {
     "name": "stdout",
     "output_type": "stream",
     "text": [
      "Welcome to the world most advance email service \n",
      "password : 23456\n",
      "log in failled\n"
     ]
    }
   ],
   "source": [
    "print(\"\"\"Welcome to the world most advance email service \"\"\")\n",
    "\n",
    "password= int(input(\"password : \"))\n",
    "\n",
    "if password ==\"23456\":\n",
    "    \n",
    "    print(\"welcome to our system \")\n",
    "    \n",
    "else : \n",
    "    \n",
    "    print(\"log in failled\")\n",
    "          \n",
    "    \n",
    "    \n",
    "    "
   ]
  },
  {
   "cell_type": "code",
   "execution_count": 5,
   "id": "7c9a6b87",
   "metadata": {},
   "outputs": [
    {
     "name": "stdout",
     "output_type": "stream",
     "text": [
      "Enter the your shopping amount: 12000\n",
      "you got the 50% discount\n"
     ]
    }
   ],
   "source": [
    "amount=int(input(\"Enter the your shopping amount: \"))\n",
    "if amount > 1000:\n",
    "    print(\"you got the 50% discount\")\n",
    "elif 500 < amount <= 1000:\n",
    "    print(\"you get the 255 discount\")                #perfect\n",
    "elif 200 <amount <=499 :  \n",
    "    print(\"you get the 10 % discount\")\n",
    "else :\n",
    "    print(\"again try\")"
   ]
  },
  {
   "cell_type": "code",
   "execution_count": 7,
   "id": "040d6cac",
   "metadata": {},
   "outputs": [
    {
     "name": "stdout",
     "output_type": "stream",
     "text": [
      "please enter your salary: 400\n",
      "your new salary:  420.0\n"
     ]
    }
   ],
   "source": [
    "salary=int(input(\"please enter your salary: \"))\n",
    "\n",
    "if salary >2000:\n",
    "    \n",
    "    print(\"your new salary: \",salary + (salary* 10/100))\n",
    "    \n",
    "elif 1000< salary <=1500:\n",
    "    \n",
    "    print(\"your new salary: \", salary + (salary* 20/100))\n",
    "    \n",
    "elif 500 <salary<= 999:\n",
    "    \n",
    "    print(\"your new salary : \" ,salary + (salary* 30/100))\n",
    "    \n",
    "else :\n",
    "    print (\"your new salary: \" ,salary + (salary* 5/100))\n",
    "    "
   ]
  },
  {
   "cell_type": "code",
   "execution_count": 8,
   "id": "3ff5c683",
   "metadata": {},
   "outputs": [
    {
     "name": "stdout",
     "output_type": "stream",
     "text": [
      "[1, 8, 27, 64, 125]\n"
     ]
    }
   ],
   "source": [
    "number= [ 1,2,3,4,5]\n",
    "cubed_number = []\n",
    "\n",
    "for i in number :\n",
    "    x=i**3\n",
    "    cubed_number.append(x)\n",
    "    \n",
    "print(cubed_number)    "
   ]
  },
  {
   "cell_type": "code",
   "execution_count": 12,
   "id": "388988ee",
   "metadata": {},
   "outputs": [
    {
     "name": "stdout",
     "output_type": "stream",
     "text": [
      "[2, 4, 6, 8, 10]\n",
      "[1, 3, 5, 7, 9]\n"
     ]
    }
   ],
   "source": [
    "number=[1,2,3,4,5,6,7,8,9,10]\n",
    "\n",
    "even=[]\n",
    "odd=[]\n",
    "\n",
    "for i in number :\n",
    "    if i % 2 ==0:\n",
    "        even.append(i)\n",
    "    else:\n",
    "        odd.append(i)\n",
    "        \n",
    "        \n",
    "print(even)\n",
    "print(odd)"
   ]
  },
  {
   "cell_type": "code",
   "execution_count": 13,
   "id": "2113424b",
   "metadata": {},
   "outputs": [
    {
     "name": "stdout",
     "output_type": "stream",
     "text": [
      "[1, 3, 5, 7, 9]\n"
     ]
    }
   ],
   "source": [
    "number=[1,2,3,4,5,6,7,8,9,10]\n",
    "odd=[]\n",
    "\n",
    "[odd.append(i)for i in number if i % 2 !=0 ]\n",
    "\n",
    "print(odd)"
   ]
  },
  {
   "cell_type": "code",
   "execution_count": 1,
   "id": "dff794fb",
   "metadata": {},
   "outputs": [],
   "source": [
    "import numpy as np\n"
   ]
  },
  {
   "cell_type": "code",
   "execution_count": 2,
   "id": "19d2128b",
   "metadata": {},
   "outputs": [
    {
     "data": {
      "text/plain": [
       "list"
      ]
     },
     "execution_count": 2,
     "metadata": {},
     "output_type": "execute_result"
    }
   ],
   "source": [
    "my_list = [-1,0,1]\n",
    "type (my_list)"
   ]
  },
  {
   "cell_type": "code",
   "execution_count": 3,
   "id": "cc3eb090",
   "metadata": {},
   "outputs": [
    {
     "data": {
      "text/plain": [
       "array([-1,  0,  1])"
      ]
     },
     "execution_count": 3,
     "metadata": {},
     "output_type": "execute_result"
    }
   ],
   "source": [
    "my_array=np.array(my_list)\n",
    "my_array"
   ]
  },
  {
   "cell_type": "code",
   "execution_count": 4,
   "id": "72510a3b",
   "metadata": {},
   "outputs": [
    {
     "data": {
      "text/plain": [
       "[[1, 2, 3], [4, 5, 6], [7, 8, 9], [4, 5, 9]]"
      ]
     },
     "execution_count": 4,
     "metadata": {},
     "output_type": "execute_result"
    }
   ],
   "source": [
    "my_matrix=[[1,2,3],[4,5,6],[7,8,9],[4,5,9]]\n",
    "my_matrix"
   ]
  },
  {
   "cell_type": "code",
   "execution_count": 6,
   "id": "05eb66d7",
   "metadata": {},
   "outputs": [
    {
     "data": {
      "text/plain": [
       "array([[1, 2, 3],\n",
       "       [4, 5, 6],\n",
       "       [7, 8, 9],\n",
       "       [4, 5, 9]])"
      ]
     },
     "execution_count": 6,
     "metadata": {},
     "output_type": "execute_result"
    }
   ],
   "source": [
    "matrix_one= np.array(my_matrix)\n",
    "matrix_one"
   ]
  },
  {
   "cell_type": "code",
   "execution_count": 7,
   "id": "4b02f756",
   "metadata": {},
   "outputs": [
    {
     "data": {
      "text/plain": [
       "array([ 0,  1,  2,  3,  4,  5,  6,  7,  8,  9, 10, 11, 12, 13, 14, 15, 16,\n",
       "       17, 18, 19, 20, 21, 22, 23, 24, 25, 26, 27, 28, 29, 30, 31, 32, 33,\n",
       "       34, 35, 36, 37, 38, 39, 40, 41, 42, 43, 44, 45, 46, 47, 48, 49, 50,\n",
       "       51, 52, 53, 54, 55, 56, 57, 58, 59, 60, 61, 62, 63, 64, 65, 66, 67,\n",
       "       68, 69, 70, 71, 72, 73, 74, 75, 76, 77, 78, 79, 80, 81, 82, 83, 84,\n",
       "       85, 86, 87, 88, 89, 90, 91, 92, 93, 94, 95, 96, 97, 98, 99])"
      ]
     },
     "execution_count": 7,
     "metadata": {},
     "output_type": "execute_result"
    }
   ],
   "source": [
    "np.arange(0,100)        #its like that python range "
   ]
  },
  {
   "cell_type": "code",
   "execution_count": 8,
   "id": "01cb1db7",
   "metadata": {},
   "outputs": [
    {
     "data": {
      "text/plain": [
       "array([ 0,  5, 10, 15, 20, 25, 30, 35, 40, 45, 50, 55, 60, 65, 70, 75, 80,\n",
       "       85, 90, 95])"
      ]
     },
     "execution_count": 8,
     "metadata": {},
     "output_type": "execute_result"
    }
   ],
   "source": [
    "np.arange(0,100,5)"
   ]
  },
  {
   "cell_type": "code",
   "execution_count": 11,
   "id": "4153a708",
   "metadata": {},
   "outputs": [
    {
     "data": {
      "text/plain": [
       "array([ 0.,  2.,  4.,  6.,  8., 10., 12., 14., 16., 18., 20., 22., 24.,\n",
       "       26., 28., 30., 32., 34., 36., 38., 40., 42., 44., 46., 48., 50.,\n",
       "       52., 54., 56., 58., 60., 62., 64., 66., 68., 70., 72., 74., 76.,\n",
       "       78., 80., 82., 84., 86., 88., 90., 92., 94., 96., 98.])"
      ]
     },
     "execution_count": 11,
     "metadata": {},
     "output_type": "execute_result"
    }
   ],
   "source": [
    "np.arange(0,100,2, dtype =float)"
   ]
  },
  {
   "cell_type": "code",
   "execution_count": 12,
   "id": "6e6c6147",
   "metadata": {},
   "outputs": [
    {
     "data": {
      "text/plain": [
       "[0, 2, 3, 4, 0, 2, 3, 4, 0, 2, 3, 4]"
      ]
     },
     "execution_count": 12,
     "metadata": {},
     "output_type": "execute_result"
    }
   ],
   "source": [
    "list=[0,2,3,4]\n",
    "list*3"
   ]
  },
  {
   "cell_type": "code",
   "execution_count": 28,
   "id": "1a130e06",
   "metadata": {},
   "outputs": [
    {
     "data": {
      "text/plain": [
       "array([ 4,  6,  8, 10, 12])"
      ]
     },
     "execution_count": 28,
     "metadata": {},
     "output_type": "execute_result"
    }
   ],
   "source": [
    "arr=np.array ([2,3,4,5,6])\n",
    "arr*2"
   ]
  },
  {
   "cell_type": "code",
   "execution_count": 31,
   "id": "5c56defc",
   "metadata": {},
   "outputs": [
    {
     "data": {
      "text/plain": [
       "array([  1.        ,   3.30232558,   5.60465116,   7.90697674,\n",
       "        10.20930233,  12.51162791,  14.81395349,  17.11627907,\n",
       "        19.41860465,  21.72093023,  24.02325581,  26.3255814 ,\n",
       "        28.62790698,  30.93023256,  33.23255814,  35.53488372,\n",
       "        37.8372093 ,  40.13953488,  42.44186047,  44.74418605,\n",
       "        47.04651163,  49.34883721,  51.65116279,  53.95348837,\n",
       "        56.25581395,  58.55813953,  60.86046512,  63.1627907 ,\n",
       "        65.46511628,  67.76744186,  70.06976744,  72.37209302,\n",
       "        74.6744186 ,  76.97674419,  79.27906977,  81.58139535,\n",
       "        83.88372093,  86.18604651,  88.48837209,  90.79069767,\n",
       "        93.09302326,  95.39534884,  97.69767442, 100.        ])"
      ]
     },
     "execution_count": 31,
     "metadata": {},
     "output_type": "execute_result"
    }
   ],
   "source": [
    "np.linspace(1,100,44)"
   ]
  },
  {
   "cell_type": "code",
   "execution_count": 35,
   "id": "81d31f4d",
   "metadata": {},
   "outputs": [
    {
     "data": {
      "text/plain": [
       "(array([  2.,   7.,  12.,  17.,  22.,  27.,  32.,  37.,  42.,  47.,  52.,\n",
       "         57.,  62.,  67.,  72.,  77.,  82.,  87.,  92.,  97., 102., 107.,\n",
       "        112., 117., 122., 127., 132., 137., 142., 147., 152., 157., 162.,\n",
       "        167., 172., 177., 182., 187., 192., 197., 202., 207., 212., 217.,\n",
       "        222.]),\n",
       " 5.0)"
      ]
     },
     "execution_count": 35,
     "metadata": {},
     "output_type": "execute_result"
    }
   ],
   "source": [
    "np.linspace(2,222,45,retstep=True)"
   ]
  },
  {
   "cell_type": "code",
   "execution_count": 40,
   "id": "8c39fe0c",
   "metadata": {},
   "outputs": [
    {
     "data": {
      "text/plain": [
       "(array([ -2.        ,  -2.56097561,  -3.12195122,  -3.68292683,\n",
       "         -4.24390244,  -4.80487805,  -5.36585366,  -5.92682927,\n",
       "         -6.48780488,  -7.04878049,  -7.6097561 ,  -8.17073171,\n",
       "         -8.73170732,  -9.29268293,  -9.85365854, -10.41463415,\n",
       "        -10.97560976, -11.53658537, -12.09756098, -12.65853659,\n",
       "        -13.2195122 , -13.7804878 , -14.34146341, -14.90243902,\n",
       "        -15.46341463, -16.02439024, -16.58536585, -17.14634146,\n",
       "        -17.70731707, -18.26829268, -18.82926829, -19.3902439 ,\n",
       "        -19.95121951, -20.51219512, -21.07317073, -21.63414634,\n",
       "        -22.19512195, -22.75609756, -23.31707317, -23.87804878,\n",
       "        -24.43902439, -25.        ]),\n",
       " -0.5609756097560976)"
      ]
     },
     "execution_count": 40,
     "metadata": {},
     "output_type": "execute_result"
    }
   ],
   "source": [
    "np.linspace(-2,-25,42, retstep=True)"
   ]
  },
  {
   "cell_type": "code",
   "execution_count": 46,
   "id": "f3914a33",
   "metadata": {},
   "outputs": [
    {
     "data": {
      "text/plain": [
       "(array([1.        , 1.02941176, 1.05882353, 1.08823529, 1.11764706,\n",
       "        1.14705882, 1.17647059, 1.20588235, 1.23529412, 1.26470588,\n",
       "        1.29411765, 1.32352941, 1.35294118, 1.38235294, 1.41176471,\n",
       "        1.44117647, 1.47058824, 1.5       , 1.52941176, 1.55882353,\n",
       "        1.58823529, 1.61764706, 1.64705882, 1.67647059, 1.70588235,\n",
       "        1.73529412, 1.76470588, 1.79411765, 1.82352941, 1.85294118,\n",
       "        1.88235294, 1.91176471, 1.94117647, 1.97058824, 2.        ]),\n",
       " 0.029411764705882353)"
      ]
     },
     "execution_count": 46,
     "metadata": {},
     "output_type": "execute_result"
    }
   ],
   "source": [
    "np.linspace(1, 2 , 35 ,retstep= True)    #1-d array"
   ]
  },
  {
   "cell_type": "code",
   "execution_count": 47,
   "id": "a04cf998",
   "metadata": {},
   "outputs": [
    {
     "data": {
      "text/plain": [
       "array([0., 0., 0., 0., 0., 0., 0., 0., 0., 0., 0., 0., 0., 0., 0., 0., 0.,\n",
       "       0., 0., 0., 0., 0., 0., 0., 0., 0., 0., 0., 0., 0., 0., 0., 0., 0.,\n",
       "       0., 0., 0., 0., 0., 0., 0., 0., 0., 0., 0., 0., 0., 0., 0., 0., 0.,\n",
       "       0., 0., 0., 0., 0., 0., 0., 0., 0., 0., 0., 0., 0., 0., 0., 0., 0.,\n",
       "       0., 0., 0., 0., 0., 0., 0., 0., 0., 0., 0., 0., 0., 0., 0., 0., 0.,\n",
       "       0., 0., 0., 0., 0., 0., 0., 0., 0., 0., 0., 0., 0., 0., 0.])"
      ]
     },
     "execution_count": 47,
     "metadata": {},
     "output_type": "execute_result"
    }
   ],
   "source": [
    "np.zeros(100)"
   ]
  },
  {
   "cell_type": "code",
   "execution_count": 48,
   "id": "d19beb2d",
   "metadata": {},
   "outputs": [
    {
     "data": {
      "text/plain": [
       "array([0., 0., 0., 0., 0.])"
      ]
     },
     "execution_count": 48,
     "metadata": {},
     "output_type": "execute_result"
    }
   ],
   "source": [
    "np.zeros(5)\n"
   ]
  },
  {
   "cell_type": "code",
   "execution_count": null,
   "id": "1c9fecab",
   "metadata": {},
   "outputs": [],
   "source": [
    "import numpy as np"
   ]
  },
  {
   "cell_type": "code",
   "execution_count": 4,
   "id": "3b9a2380",
   "metadata": {},
   "outputs": [
    {
     "ename": "NameError",
     "evalue": "name 'np' is not defined",
     "output_type": "error",
     "traceback": [
      "\u001b[1;31m---------------------------------------------------------------------------\u001b[0m",
      "\u001b[1;31mNameError\u001b[0m                                 Traceback (most recent call last)",
      "\u001b[1;32m~\\AppData\\Local\\Temp\\ipykernel_9188\\779201599.py\u001b[0m in \u001b[0;36m<module>\u001b[1;34m\u001b[0m\n\u001b[1;32m----> 1\u001b[1;33m \u001b[0mnp\u001b[0m\u001b[1;33m.\u001b[0m\u001b[0mzeros\u001b[0m\u001b[1;33m(\u001b[0m\u001b[1;33m(\u001b[0m\u001b[1;36m6\u001b[0m\u001b[1;33m,\u001b[0m\u001b[1;36m6\u001b[0m\u001b[1;33m)\u001b[0m\u001b[1;33m)\u001b[0m\u001b[1;33m\u001b[0m\u001b[1;33m\u001b[0m\u001b[0m\n\u001b[0m",
      "\u001b[1;31mNameError\u001b[0m: name 'np' is not defined"
     ]
    }
   ],
   "source": [
    "np.zeros((6,6))"
   ]
  },
  {
   "cell_type": "code",
   "execution_count": 58,
   "id": "1930a3b0",
   "metadata": {},
   "outputs": [
    {
     "data": {
      "text/plain": [
       "array([1., 1., 1., 1., 1., 1., 1.])"
      ]
     },
     "execution_count": 58,
     "metadata": {},
     "output_type": "execute_result"
    }
   ],
   "source": [
    "np.ones(7)"
   ]
  },
  {
   "cell_type": "code",
   "execution_count": 61,
   "id": "1f4b2fb6",
   "metadata": {},
   "outputs": [
    {
     "data": {
      "text/plain": [
       "array([[1., 0., 0., 0., 0.],\n",
       "       [0., 1., 0., 0., 0.],\n",
       "       [0., 0., 1., 0., 0.],\n",
       "       [0., 0., 0., 1., 0.],\n",
       "       [0., 0., 0., 0., 1.]])"
      ]
     },
     "execution_count": 61,
     "metadata": {},
     "output_type": "execute_result"
    }
   ],
   "source": [
    "np.eye(5)"
   ]
  },
  {
   "cell_type": "code",
   "execution_count": 62,
   "id": "69c58f3e",
   "metadata": {},
   "outputs": [
    {
     "data": {
      "text/plain": [
       "array([[1., 0., 0.],\n",
       "       [0., 1., 0.],\n",
       "       [0., 0., 1.]])"
      ]
     },
     "execution_count": 62,
     "metadata": {},
     "output_type": "execute_result"
    }
   ],
   "source": [
    "np.eye(3)"
   ]
  },
  {
   "cell_type": "code",
   "execution_count": 63,
   "id": "a1cf5716",
   "metadata": {},
   "outputs": [
    {
     "data": {
      "text/plain": [
       "array([[1.]])"
      ]
     },
     "execution_count": 63,
     "metadata": {},
     "output_type": "execute_result"
    }
   ],
   "source": [
    "np.eye(1)"
   ]
  },
  {
   "cell_type": "code",
   "execution_count": 64,
   "id": "a235678c",
   "metadata": {},
   "outputs": [
    {
     "data": {
      "text/plain": [
       "array([[1., 0., 0., 0., 0., 0., 0.],\n",
       "       [0., 1., 0., 0., 0., 0., 0.],\n",
       "       [0., 0., 1., 0., 0., 0., 0.],\n",
       "       [0., 0., 0., 1., 0., 0., 0.],\n",
       "       [0., 0., 0., 0., 1., 0., 0.],\n",
       "       [0., 0., 0., 0., 0., 1., 0.],\n",
       "       [0., 0., 0., 0., 0., 0., 1.]])"
      ]
     },
     "execution_count": 64,
     "metadata": {},
     "output_type": "execute_result"
    }
   ],
   "source": [
    "np.eye(7)"
   ]
  },
  {
   "cell_type": "code",
   "execution_count": 65,
   "id": "4e0de5b1",
   "metadata": {},
   "outputs": [
    {
     "data": {
      "text/plain": [
       "array([0.88627081, 0.02291767, 0.63328064, 0.72725351, 0.64426843])"
      ]
     },
     "execution_count": 65,
     "metadata": {},
     "output_type": "execute_result"
    }
   ],
   "source": [
    "np.random.rand(5)"
   ]
  },
  {
   "cell_type": "code",
   "execution_count": 66,
   "id": "f93a2e8b",
   "metadata": {},
   "outputs": [
    {
     "data": {
      "text/plain": [
       "array([[0.06316326, 0.63844143, 0.91985551],\n",
       "       [0.27320414, 0.73224957, 0.50836221],\n",
       "       [0.10527882, 0.75166651, 0.87440329],\n",
       "       [0.48656887, 0.10321928, 0.59483159]])"
      ]
     },
     "execution_count": 66,
     "metadata": {},
     "output_type": "execute_result"
    }
   ],
   "source": [
    "np.random.rand(4,3)"
   ]
  },
  {
   "cell_type": "code",
   "execution_count": 67,
   "id": "fc785df2",
   "metadata": {},
   "outputs": [
    {
     "data": {
      "text/plain": [
       "array([[0.56510925, 0.25721785, 0.62643992, 0.50367458, 0.79337823,\n",
       "        0.77796506, 0.89379223, 0.5012888 ],\n",
       "       [0.93879491, 0.11314423, 0.06578168, 0.47540122, 0.91596377,\n",
       "        0.79424331, 0.39482027, 0.16426496],\n",
       "       [0.39864016, 0.09506938, 0.92267515, 0.24227443, 0.64958205,\n",
       "        0.14886878, 0.07646928, 0.48634939],\n",
       "       [0.09730478, 0.17875589, 0.63692027, 0.94560874, 0.28151721,\n",
       "        0.44234817, 0.30830063, 0.18329575],\n",
       "       [0.88522234, 0.65995185, 0.30088229, 0.44403449, 0.78412832,\n",
       "        0.32419118, 0.03675104, 0.03566934],\n",
       "       [0.69331952, 0.02979653, 0.05768925, 0.47372876, 0.62051185,\n",
       "        0.76457727, 0.82507796, 0.811977  ],\n",
       "       [0.240675  , 0.72852629, 0.52595073, 0.552187  , 0.41034855,\n",
       "        0.44448684, 0.42737656, 0.84407202],\n",
       "       [0.13742691, 0.89004099, 0.12683837, 0.24711906, 0.72949196,\n",
       "        0.1636465 , 0.46778768, 0.34862418],\n",
       "       [0.22958145, 0.66681262, 0.54121992, 0.58792928, 0.01884017,\n",
       "        0.48819624, 0.35976961, 0.71651361]])"
      ]
     },
     "execution_count": 67,
     "metadata": {},
     "output_type": "execute_result"
    }
   ],
   "source": [
    "np.random.rand(9,8)    #range 0-1"
   ]
  },
  {
   "cell_type": "code",
   "execution_count": 68,
   "id": "9b223a71",
   "metadata": {},
   "outputs": [
    {
     "data": {
      "text/plain": [
       "array([-1.81111289,  1.32548624,  1.76527549, -1.10944376, -0.50371996,\n",
       "       -0.80571577,  0.18522933,  1.11943017])"
      ]
     },
     "execution_count": 68,
     "metadata": {},
     "output_type": "execute_result"
    }
   ],
   "source": [
    "np.random.randn(8)      #range +3 to -3"
   ]
  },
  {
   "cell_type": "code",
   "execution_count": 70,
   "id": "654f357b",
   "metadata": {},
   "outputs": [
    {
     "data": {
      "text/plain": [
       "array([[-9.13721353e-01,  6.80289971e-01, -4.31371774e-01,\n",
       "         2.97449670e-01,  1.00396594e+00,  4.03326530e-01,\n",
       "         3.56714305e-01, -8.49910520e-01, -2.20543532e+00,\n",
       "         1.54662100e-01,  6.91889285e-01],\n",
       "       [-3.06575005e-01, -5.93932286e-01,  1.57727975e+00,\n",
       "         1.52897382e+00,  1.12597894e+00,  4.27209080e-01,\n",
       "        -6.96861818e-01, -2.19433100e-01,  4.18478421e-01,\n",
       "         1.17467726e+00,  1.79265162e-03],\n",
       "       [ 3.45437767e-01, -2.26428738e+00, -3.58129477e-01,\n",
       "        -2.04614882e-01,  2.60244093e-01,  5.55760726e-01,\n",
       "         4.06130959e-01,  5.22566965e-01, -1.83625531e+00,\n",
       "         3.33307055e-01,  1.24009475e+00],\n",
       "       [-1.19952000e+00,  1.64555070e+00,  5.27625961e-02,\n",
       "         1.09403554e+00, -1.12124428e+00,  1.63725206e+00,\n",
       "        -1.97268965e+00, -1.52134992e+00,  8.81304610e-01,\n",
       "        -1.07433659e+00,  3.62617393e-01],\n",
       "       [ 8.68947180e-01,  4.33867263e-01,  2.05409201e-01,\n",
       "        -9.54725121e-01,  4.19914320e-02,  4.72214287e-01,\n",
       "        -1.23166836e+00,  1.08924342e+00,  4.90323763e-01,\n",
       "         3.14111436e-02, -2.01455201e-01],\n",
       "       [-6.33571322e-01, -1.05645077e+00, -3.57779755e-01,\n",
       "         1.93884018e+00,  1.08832557e+00,  1.71522492e+00,\n",
       "        -1.04696999e+00,  7.15907654e-01, -6.67443820e-01,\n",
       "        -2.44718654e-02, -1.24937777e-01],\n",
       "       [-6.28213043e-01, -3.43889622e-01,  1.15960980e+00,\n",
       "         9.73216458e-01, -1.07438405e+00, -1.34850915e+00,\n",
       "         1.02204182e+00, -2.88438684e-02, -1.67971420e+00,\n",
       "        -7.23935073e-01,  4.46383301e-01],\n",
       "       [-1.26209199e+00,  1.17766560e+00,  2.15684586e+00,\n",
       "         2.84492532e-01, -1.11657666e+00,  2.44957544e-01,\n",
       "        -1.08275723e+00, -8.93327254e-01, -2.69897133e-01,\n",
       "        -3.56685429e-01,  2.79553074e-01],\n",
       "       [-5.38864014e-01, -6.23257410e-01,  1.82568687e+00,\n",
       "        -9.61038499e-02,  9.42894316e-01,  2.35035807e+00,\n",
       "        -1.76957640e+00,  3.41101364e-01, -2.91918941e-01,\n",
       "         1.03216371e+00,  4.50110190e-01],\n",
       "       [ 8.06324079e-02,  4.46955620e-01, -6.28700454e-01,\n",
       "        -3.02309559e-01,  1.22867234e+00,  9.53277087e-01,\n",
       "        -9.56688186e-01,  3.86512345e-01,  5.36110570e-02,\n",
       "        -7.48344970e-01,  1.90229696e+00],\n",
       "       [ 1.66703185e+00,  2.33041565e-01, -3.84358242e-01,\n",
       "         5.31391445e-01,  5.57523180e-01, -1.01495449e+00,\n",
       "         6.32592286e-01, -1.69819043e+00,  7.10589972e-01,\n",
       "         9.06342584e-01, -2.12480312e-01]])"
      ]
     },
     "execution_count": 70,
     "metadata": {},
     "output_type": "execute_result"
    }
   ],
   "source": [
    "np.random.randn(11,11)"
   ]
  },
  {
   "cell_type": "code",
   "execution_count": 77,
   "id": "301f4e7a",
   "metadata": {},
   "outputs": [
    {
     "data": {
      "text/plain": [
       "array([ 1, 16,  3, 11, 14,  4, 15,  2, 10,  4, 15,  2,  3, 13,  9, 16, 17,\n",
       "       18, 14,  9, 18,  2, 16, 17, 19, 10, 10, 15, 14, 11,  7,  5, 12,  6,\n",
       "        6,  8, 17, 12,  7,  4, 17,  8,  1,  8, 14, 15,  8, 18, 17,  7, 12,\n",
       "        7, 13,  6, 12, 18, 15, 19, 19, 18,  6,  9, 14, 19, 16, 17,  8, 13,\n",
       "       10,  8, 12, 15, 19,  7,  7,  4, 15,  2,  9, 19, 19,  7, 17, 13, 10,\n",
       "       12, 17, 10, 17,  9,  4,  9, 13,  4,  5, 14,  6, 11,  8, 10, 17,  8,\n",
       "       15,  9, 13,  7,  5, 10, 16, 17,  8,  6, 10,  5, 14,  8,  9,  2,  1,\n",
       "       12, 12,  4,  8,  8, 19,  2,  3,  1, 10,  6, 15, 13,  2,  2, 14, 11,\n",
       "        9, 19,  2, 12,  6, 19, 17,  5,  4, 19, 14, 19,  9,  8, 12,  9,  9,\n",
       "        4, 16,  5, 17,  7, 11,  7,  6, 15,  2, 10, 19, 16, 14, 11,  3, 18,\n",
       "        9, 16, 16,  5, 19,  2, 15, 17,  1,  1,  2, 18, 11,  7, 10, 15, 10,\n",
       "        3, 14, 10, 15,  6,  1,  8, 18,  4,  1, 17, 17, 12,  9, 12, 11,  5,\n",
       "       12,  7, 14, 10, 17,  8,  4,  5, 11,  6, 14, 13, 15, 14,  4,  7, 18,\n",
       "       18,  2,  2, 18, 17,  5,  5,  4, 14,  8,  2,  8, 18, 16,  8,  3,  8,\n",
       "       15, 17,  4, 13, 17,  3,  5,  6,  3,  7,  5, 11,  7,  6,  1, 13, 16,\n",
       "       14, 15,  7, 16,  8,  5, 16,  8, 18,  7,  7, 17,  1, 17,  4,  9, 17,\n",
       "       14, 16, 10, 16, 18,  8,  1,  2,  3, 15,  8, 19, 19, 13, 12,  1, 11,\n",
       "        9, 16, 12,  4, 13, 17, 12,  1, 19, 10,  8, 11,  9,  2, 15, 12,  4,\n",
       "        8, 16, 11,  7,  4, 17, 18, 17, 11, 10,  5, 14, 13,  2,  7, 12,  4,\n",
       "       11, 14,  2,  4, 14, 17,  8, 16,  5, 13,  4,  5,  9,  8,  3,  5,  9,\n",
       "        3,  4, 10, 15,  3, 18,  5,  1,  1, 13, 16,  9, 15, 15, 18, 17, 15,\n",
       "        5,  6,  7,  2, 15, 17, 13,  2, 10,  2,  4, 16, 11,  2, 16,  2, 12,\n",
       "        2,  6,  1, 15, 19, 12,  1,  1, 19, 15, 17, 14, 12, 18, 12, 18,  6,\n",
       "        4,  2,  4,  8,  3,  3, 18, 15, 12,  2, 12,  8,  1, 19, 15, 11,  2,\n",
       "        6, 15, 12,  9, 14,  3,  1, 12, 10,  9,  1, 18, 10, 13, 15, 10, 15,\n",
       "        9,  8, 12,  7, 11, 14,  2, 14,  9,  8, 17, 13, 10, 10, 17,  6, 15,\n",
       "       17, 12,  6,  6,  3, 12, 18, 13,  3,  2,  9, 16, 18, 19,  3, 11,  3,\n",
       "        7, 14,  9,  5, 13,  8,  9, 13, 10,  9,  6,  6,  5, 13, 12,  5, 11,\n",
       "        5,  2,  2, 10,  2, 19, 10, 15, 12,  6, 15,  7, 14, 16,  3, 13,  2,\n",
       "       16,  8, 15,  6,  3, 16,  2])"
      ]
     },
     "execution_count": 77,
     "metadata": {},
     "output_type": "execute_result"
    }
   ],
   "source": [
    "np.random.randint(1,20,500)"
   ]
  },
  {
   "cell_type": "markdown",
   "id": "9a5b7bba",
   "metadata": {},
   "source": [
    "Array arrange and reshapping"
   ]
  },
  {
   "cell_type": "code",
   "execution_count": 84,
   "id": "398a33b4",
   "metadata": {},
   "outputs": [],
   "source": [
    "\n",
    "array_arange = np.arange(16)"
   ]
  },
  {
   "cell_type": "code",
   "execution_count": 85,
   "id": "5ad652e2",
   "metadata": {},
   "outputs": [
    {
     "data": {
      "text/plain": [
       "array([ 0,  1,  2,  3,  4,  5,  6,  7,  8,  9, 10, 11, 12, 13, 14, 15])"
      ]
     },
     "execution_count": 85,
     "metadata": {},
     "output_type": "execute_result"
    }
   ],
   "source": [
    "array_arange"
   ]
  },
  {
   "cell_type": "code",
   "execution_count": 91,
   "id": "5bc92b6d",
   "metadata": {},
   "outputs": [],
   "source": [
    "array_randint=np.random.randint(1,200,36)"
   ]
  },
  {
   "cell_type": "code",
   "execution_count": 88,
   "id": "8b620ab1",
   "metadata": {},
   "outputs": [
    {
     "data": {
      "text/plain": [
       "array([  7,  33,  78, 125,  24,  47,  87, 108, 117,  70,  38, 128, 160,\n",
       "        97,  40, 106, 171, 111,  10, 100,  74,  87, 132,  24, 129, 173,\n",
       "        50,  77, 140,  57,  62, 153, 122, 141])"
      ]
     },
     "execution_count": 88,
     "metadata": {},
     "output_type": "execute_result"
    }
   ],
   "source": [
    "array_randint"
   ]
  },
  {
   "cell_type": "code",
   "execution_count": 92,
   "id": "60574820",
   "metadata": {},
   "outputs": [
    {
     "data": {
      "text/plain": [
       "(36,)"
      ]
     },
     "execution_count": 92,
     "metadata": {},
     "output_type": "execute_result"
    }
   ],
   "source": [
    "array_randint.shape"
   ]
  },
  {
   "cell_type": "code",
   "execution_count": 94,
   "id": "cb56807c",
   "metadata": {},
   "outputs": [],
   "source": [
    "reshape_test=array_randint.reshape(6,6)"
   ]
  },
  {
   "cell_type": "code",
   "execution_count": 96,
   "id": "240e647f",
   "metadata": {},
   "outputs": [
    {
     "data": {
      "text/plain": [
       "array([[ 24,  32, 197, 176, 144, 126],\n",
       "       [130, 185,  43, 135, 186,  69],\n",
       "       [128,  86, 179, 160, 158,  29],\n",
       "       [137,  75,  28, 142,  10,  54],\n",
       "       [ 84, 116, 179, 109,  90,  49],\n",
       "       [ 63,  39,  65,  68, 124, 125]])"
      ]
     },
     "execution_count": 96,
     "metadata": {},
     "output_type": "execute_result"
    }
   ],
   "source": [
    "reshape_test"
   ]
  },
  {
   "cell_type": "code",
   "execution_count": 99,
   "id": "546a70ff",
   "metadata": {},
   "outputs": [
    {
     "data": {
      "text/plain": [
       "197"
      ]
     },
     "execution_count": 99,
     "metadata": {},
     "output_type": "execute_result"
    }
   ],
   "source": [
    "array_randint.max()"
   ]
  },
  {
   "cell_type": "code",
   "execution_count": null,
   "id": "e50bc8d6",
   "metadata": {},
   "outputs": [],
   "source": [
    "import numpy as np"
   ]
  },
  {
   "cell_type": "code",
   "execution_count": 4,
   "id": "cd9e37cb",
   "metadata": {},
   "outputs": [
    {
     "ename": "NameError",
     "evalue": "name 'np' is not defined",
     "output_type": "error",
     "traceback": [
      "\u001b[1;31m---------------------------------------------------------------------------\u001b[0m",
      "\u001b[1;31mNameError\u001b[0m                                 Traceback (most recent call last)",
      "\u001b[1;32m~\\AppData\\Local\\Temp\\ipykernel_8548\\1921225421.py\u001b[0m in \u001b[0;36m<module>\u001b[1;34m\u001b[0m\n\u001b[1;32m----> 1\u001b[1;33m \u001b[0marray_arange\u001b[0m\u001b[1;33m=\u001b[0m\u001b[0mnp\u001b[0m\u001b[1;33m.\u001b[0m\u001b[0marange\u001b[0m\u001b[1;33m(\u001b[0m\u001b[1;36m25\u001b[0m\u001b[1;33m)\u001b[0m\u001b[1;33m\u001b[0m\u001b[1;33m\u001b[0m\u001b[0m\n\u001b[0m",
      "\u001b[1;31mNameError\u001b[0m: name 'np' is not defined"
     ]
    }
   ],
   "source": [
    "array_arange=np.arange(25)"
   ]
  }
 ],
 "metadata": {
  "kernelspec": {
   "display_name": "Python 3 (ipykernel)",
   "language": "python",
   "name": "python3"
  },
  "language_info": {
   "codemirror_mode": {
    "name": "ipython",
    "version": 3
   },
   "file_extension": ".py",
   "mimetype": "text/x-python",
   "name": "python",
   "nbconvert_exporter": "python",
   "pygments_lexer": "ipython3",
   "version": "3.9.13"
  }
 },
 "nbformat": 4,
 "nbformat_minor": 5
}
